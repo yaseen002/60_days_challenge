{
 "cells": [
  {
   "cell_type": "markdown",
   "id": "bea76efd-d327-4c45-abe5-9a4da38e3e41",
   "metadata": {},
   "source": [
    "# Linear Algebra\n",
    "\n",
    "- an arrow pointing from one place to another\n",
    "- a **vector** is an ordered list of numbers. These numbers are called the **components** or **elements** of the vector. The number of components is the **dimension** of the vector.\n",
    "\n",
    "* **Geometric View:** A vector represents a magnitude (length) and a direction.\n",
    "* **Data View (more common in AI):** A vector is often used to represent a data point or a set of features.\n",
    "    * Example: If you're describing a house, its features could be a vector: `[square_footage, number_of_bedrooms, price_per_sqft]`.\n",
    "    * Example: A single pixel in a grayscale image can be represented by a 1-component vector (its brightness). A color pixel might be a 3-component vector `[Red, Green, Blue]`.\n",
    "\n",
    "**Notation:**\n",
    "Vectors are often written as columns or rows of numbers, usually in square brackets or parentheses.\n",
    "Example:\n",
    "* A 2-dimensional vector: $\\mathbf{v} = \\begin{bmatrix} 3 \\\\ 4 \\end{bmatrix}$ or $\\mathbf{v} = (3, 4)$\n",
    "* A 3-dimensional vector: $\\mathbf{u} = \\begin{bmatrix} 1 \\\\ 2 \\\\ 5 \\end{bmatrix}$ or $\\mathbf{u} = (1, 2, 5)$\n"
   ]
  },
  {
   "cell_type": "markdown",
   "id": "3dbbf784-1963-417f-936c-f93e7edb3263",
   "metadata": {},
   "source": [
    "## 1. Vector Addition\n",
    "- To add two vectors, you simply add their corresponding components (elements) together. This means the vectors **must have the same dimension** (same number of components).\n",
    "- **Mathematical Example:**\n",
    "Let $\\mathbf{a} = \\begin{bmatrix} 1 \\\\ 2 \\end{bmatrix}$ and $\\mathbf{b} = \\begin{bmatrix} 3 \\\\ 4 \\end{bmatrix}$.\n",
    "\n",
    "Then, $\\mathbf{a} + \\mathbf{b} = \\begin{bmatrix} 1+3 \\\\ 2+4 \\end{bmatrix} = \\begin{bmatrix} 4 \\\\ 6 \\end{bmatrix}$"
   ]
  },
  {
   "cell_type": "markdown",
   "id": "48874be2-5127-4d15-8d3b-abf6cf908785",
   "metadata": {},
   "source": [
    "### Role in AI\n",
    "* **Combining Information:** In AI, you might add vectors to combine different pieces of information. For instance, if one vector represents \"features about a person\" and another represents \"features about their preferences,\" adding them could create a combined representation.\n",
    "* **Movement/Updates:** In optimization algorithms (how AI models learn), vectors are often added to adjust parameters (like weights in a neural network) in a certain direction."
   ]
  },
  {
   "cell_type": "markdown",
   "id": "d49f71e4-591d-410f-80f0-fd075ee32158",
   "metadata": {},
   "source": [
    "## 2. Dot Product (Scalar Product)\n",
    "\n",
    "The dot product is a fundamental operation that tells us something about the relationship between two vectors.\n",
    "\n",
    "**Concept:**\n",
    "To calculate the dot product of two vectors, you:\n",
    "1.  Multiply their corresponding components.\n",
    "2.  Sum up all those products.\n",
    "\n",
    "The result of a dot product is always a **single number (a scalar)**, not another vector.\n",
    "\n",
    "**Rule:**\n",
    "The two vectors **must have the same dimension**.\n",
    "\n",
    "**Geometric Intuition (Simplified):**\n",
    "The dot product measures **how much two vectors \"point in the same direction\"**.\n",
    "* If the dot product is large and positive, they point in roughly the same direction.\n",
    "* If it's near zero, they are roughly perpendicular (at a right angle).\n",
    "* If it's large and negative, they point in roughly opposite directions.\n",
    "\n",
    "It also relates to the concept of **projection** (how much one vector \"casts a shadow\" onto another).\n",
    "\n",
    "**Mathematical Example:**\n",
    "Let $\\mathbf{a} = \\begin{bmatrix} 1 \\\\ 2 \\\\ 3 \\end{bmatrix}$ and $\\mathbf{b} = \\begin{bmatrix} 4 \\\\ 5 \\\\ 6 \\end{bmatrix}$.\n",
    "\n",
    "Then, the dot product $\\mathbf{a} \\cdot \\mathbf{b}$ (read as \"a dot b\") is:\n",
    "$(1 \\times 4) + (2 \\times 5) + (3 \\times 6)$\n",
    "$= 4 + 10 + 18$\n",
    "$= 32$\n",
    "\n",
    "### Role in AI (Crucial\n",
    "* **Similarity Measures:** The dot product (or related concepts like cosine similarity, which uses the dot product) is widely used to measure how similar two things are. For example:\n",
    "    * How similar is one movie's features vector to another movie's features vector?\n",
    "    * How similar is a user's preference vector to a movie's features vector?\n",
    "* **Neural Networks:** In every single layer of a neural network, the \"input\" vector (or matrix) is multiplied by a \"weights\" matrix. This multiplication fundamentally relies on the dot product between vectors. It's how the network combines and transforms information.\n",
    "* **Projections:** Used in dimensionality reduction techniques like Principal Component Analysis (PCA).\n"
   ]
  },
  {
   "cell_type": "markdown",
   "id": "25efa08b-eacd-41a5-9b8a-06c15d908ead",
   "metadata": {},
   "source": [
    "# AI Mini-Project"
   ]
  },
  {
   "cell_type": "code",
   "execution_count": 7,
   "id": "b143aa65-d6db-4bcf-8f9c-07cd4febfefd",
   "metadata": {},
   "outputs": [],
   "source": [
    "import numpy as np"
   ]
  },
  {
   "cell_type": "code",
   "execution_count": 10,
   "id": "4e14fe73-b66c-4f07-a6dc-57a106642294",
   "metadata": {},
   "outputs": [],
   "source": [
    "vector1 = np.array([1,2,3])\n",
    "vector2 = np.array([4,5,6])"
   ]
  },
  {
   "cell_type": "markdown",
   "id": "91da752b-551b-4696-a3bd-f63dc2ba6dbc",
   "metadata": {},
   "source": [
    "## Adding two vectors"
   ]
  },
  {
   "cell_type": "code",
   "execution_count": 11,
   "id": "d5e9ac37-3912-43ee-ad63-ca67eb412c9e",
   "metadata": {},
   "outputs": [
    {
     "data": {
      "text/plain": [
       "array([5, 7, 9])"
      ]
     },
     "execution_count": 11,
     "metadata": {},
     "output_type": "execute_result"
    }
   ],
   "source": [
    "result = vector1 + vector2\n",
    "result"
   ]
  },
  {
   "cell_type": "markdown",
   "id": "bacb2dc4-34ce-4709-ac2d-8e78676a1ec6",
   "metadata": {},
   "source": [
    "## Compute the Dot Product:"
   ]
  },
  {
   "cell_type": "code",
   "execution_count": 13,
   "id": "46d8beb9-7481-45aa-80d3-279c5f351602",
   "metadata": {},
   "outputs": [
    {
     "data": {
      "text/plain": [
       "np.int64(32)"
      ]
     },
     "execution_count": 13,
     "metadata": {},
     "output_type": "execute_result"
    }
   ],
   "source": [
    "result = np.dot(vector1, vector2)\n",
    "result"
   ]
  },
  {
   "cell_type": "code",
   "execution_count": 16,
   "id": "84ced304-188b-4877-b4c0-433c9dfd1530",
   "metadata": {},
   "outputs": [
    {
     "name": "stdout",
     "output_type": "stream",
     "text": [
      "Vector A: [1 2 3]\n",
      "Vector B: [4 5 6]\n",
      "------------------------------\n",
      "Vector Addition (A + B): [5 7 9]\n",
      "------------------------------\n",
      "Dot Product (A . B): 32\n",
      "------------------------------\n",
      "Linear Algebra Vector Operations Complete!\n"
     ]
    }
   ],
   "source": [
    "import numpy as np\n",
    "\n",
    "# --- 1. Define Your Vectors ---\n",
    "# Choose two 1-dimensional NumPy arrays (vectors)\n",
    "# Make sure they have the same number of elements!\n",
    "vector_a = np.array([1, 2, 3])\n",
    "vector_b = np.array([4, 5, 6])\n",
    "\n",
    "print(\"Vector A:\", vector_a)\n",
    "print(\"Vector B:\", vector_b)\n",
    "print(\"-\" * 30)\n",
    "\n",
    "# --- 2. Perform Vector Addition ---\n",
    "# Hint: NumPy allows direct addition using the '+' operator\n",
    "sum_of_vectors = vector_a + vector_b\n",
    "\n",
    "print(\"Vector Addition (A + B):\", sum_of_vectors)\n",
    "print(\"-\" * 30)\n",
    "\n",
    "# --- 3. Compute the Dot Product ---\n",
    "# Hint: Use np.dot()\n",
    "dot_product_value = np.dot(vector_a, vector_b)\n",
    "\n",
    "print(\"Dot Product (A . B):\", dot_product_value)\n",
    "print(\"-\" * 30)"
   ]
  }
 ],
 "metadata": {
  "kernelspec": {
   "display_name": "Python 3 (ipykernel)",
   "language": "python",
   "name": "python3"
  },
  "language_info": {
   "codemirror_mode": {
    "name": "ipython",
    "version": 3
   },
   "file_extension": ".py",
   "mimetype": "text/x-python",
   "name": "python",
   "nbconvert_exporter": "python",
   "pygments_lexer": "ipython3",
   "version": "3.13.2"
  }
 },
 "nbformat": 4,
 "nbformat_minor": 5
}
