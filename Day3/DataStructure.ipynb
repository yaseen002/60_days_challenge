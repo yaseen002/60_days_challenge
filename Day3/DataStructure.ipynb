{
 "cells": [
  {
   "cell_type": "markdown",
   "id": "c0f85260-460a-472a-ac22-c1f21bbc6537",
   "metadata": {},
   "source": [
    "# Arrays: Sliding Window Introduction\n",
    "\n",
    "## What is the Sliding Window Technique?\n",
    "\n",
    "Imagine you have a long array (or a string), and you want to look at a \"segment\" or \"subarray\" of it. Instead of looking at every single possible segment independently (which would be very inefficient), you create a \"window\" that slides over the array.\n",
    "\n",
    "Think of it like a physical window (a frame) moving across a landscape. The window has a certain size (fixed or variable), and as it moves, you process the elements currently \"inside\" that window.\n",
    "\n",
    "* **Window:** A contiguous (unbroken) sub-array or sub-string.\n",
    "* **Sliding:** The window moves from one end of the array to the other, usually by extending one end (right pointer) and shrinking from the other end (left pointer).\n",
    "\n",
    "## When Do You Use It?\n",
    "\n",
    "The Sliding Window technique is primarily used for problems that ask for:\n",
    "\n",
    "* The **maximum/minimum sum**, average, or some other property of a **contiguous sub-array or sub-string** of a certain size.\n",
    "* The **smallest/largest sub-array/sub-string** that satisfies a given condition.\n",
    "\n",
    "It's most effective when you need to perform calculations on **all possible contiguous sub-arrays/sub-strings**.\n",
    "\n",
    "## Why is it Efficient?\n",
    "\n",
    "Without a sliding window, many of these problems would require nested loops. For example, to find the maximum sum of all subarrays of size `K`:\n",
    "* Outer loop: Iterates from the start of the array to `N-K`.\n",
    "* Inner loop: Calculates the sum of `K` elements.\n",
    "This would lead to an **O(N*K)** or often **O(N^2)** time complexity.\n",
    "\n",
    "The Sliding Window technique reduces this to **O(N)** (linear time complexity). How? Because you only iterate through the array *once* with your pointers. When the window slides, you typically just add the new element entering the window and subtract the old element leaving the window, instead of re-calculating the sum (or other property) of the entire window from scratch.\n",
    "\n",
    "## How to Implement It (General Pattern):\n",
    "\n",
    "You typically use **two pointers**:\n",
    "* `left` (or `start`): Marks the beginning of your window.\n",
    "* `right` (or `end`): Marks the end of your window.\n",
    "\n",
    "The general steps are:\n",
    "\n",
    "1.  **Initialize:**\n",
    "    * Set `left = 0`.\n",
    "    * Set `current_window_sum` (or count, or whatever property you're tracking) to 0.\n",
    "    * Initialize `max_result` (or `min_result`, depending on the problem) to an appropriate initial value (e.g., negative infinity for max sum, positive infinity for min length).\n",
    "\n",
    "2.  **Expand the Window:**\n",
    "    * Iterate with the `right` pointer from `0` to `len(array) - 1`.\n",
    "    * As `right` moves, add the element `array[right]` to your `current_window_sum` (or update your count/property).\n",
    "\n",
    "3.  **Check Window Size / Condition:**\n",
    "    * **Fixed-size window:** If your window size (`right - left + 1`) is equal to the target size `K`:\n",
    "        * Update your `max_result` (or `min_result`) with the `current_window_sum`.\n",
    "        * **Shrink the window:** Subtract `array[left]` from `current_window_sum`.\n",
    "        * Move `left` pointer one step to the right (`left += 1`).\n",
    "    * **Variable-size window:** If your `current_window_sum` (or some other condition) meets the problem's criteria, you might need to shrink the window from the left (`while current_window_sum >= target:`) until the condition is no longer met, updating results along the way. (This is more advanced, we'll stick to fixed for now).\n",
    "\n",
    "4.  **Return Result:** After the `right` pointer reaches the end of the array, return your `max_result` (or `min_result`).\n",
    "\n",
    "\n"
   ]
  },
  {
   "cell_type": "markdown",
   "id": "b2a9531d-e32a-4cde-9d47-e3425cceb7ee",
   "metadata": {},
   "source": [
    "# Maximum Average Subarray I (Easy)"
   ]
  },
  {
   "cell_type": "code",
   "execution_count": 4,
   "id": "31d51992-f278-45d7-90db-0390d888a667",
   "metadata": {},
   "outputs": [
    {
     "name": "stdout",
     "output_type": "stream",
     "text": [
      "12.75\n"
     ]
    }
   ],
   "source": [
    "class Solution:\n",
    "    def findMaxAverage(self, nums, k):\n",
    "        current_sum = 0\n",
    "        for i in range(k):\n",
    "            current_sum += nums[i]\n",
    "        max_avg =  current_sum / k\n",
    "        for i in range(k, len(nums)):\n",
    "            current_sum += nums[i]\n",
    "            current_sum -= nums[i-k]\n",
    "            avg = current_sum/k\n",
    "            max_avg = max(avg, max_avg)\n",
    "        return max_avg\n",
    "\n",
    "\n",
    "\n",
    "nums = [1,12,-5,-6,50,3]\n",
    "k = 4\n",
    "#Output: 12.75000\n",
    "#Maximum average is (12 - 5 - 6 + 50) / 4 = 51 / 4 = 12.75\n",
    "sol = Solution()\n",
    "print(sol.findMaxAverage(nums, k))"
   ]
  },
  {
   "cell_type": "code",
   "execution_count": null,
   "id": "52b61d63-ec46-4bb5-961a-503e28ebb5ca",
   "metadata": {},
   "outputs": [],
   "source": []
  },
  {
   "cell_type": "code",
   "execution_count": null,
   "id": "64c22d1b-fb4e-4e09-b07a-9058afdc4e1b",
   "metadata": {},
   "outputs": [],
   "source": []
  },
  {
   "cell_type": "code",
   "execution_count": null,
   "id": "47ac6429-5389-47fb-a33f-26cf0eb38527",
   "metadata": {},
   "outputs": [],
   "source": []
  },
  {
   "cell_type": "code",
   "execution_count": null,
   "id": "92f2c380-5efc-4375-8563-8b719b0364e2",
   "metadata": {},
   "outputs": [],
   "source": []
  }
 ],
 "metadata": {
  "kernelspec": {
   "display_name": "Python 3 (ipykernel)",
   "language": "python",
   "name": "python3"
  },
  "language_info": {
   "codemirror_mode": {
    "name": "ipython",
    "version": 3
   },
   "file_extension": ".py",
   "mimetype": "text/x-python",
   "name": "python",
   "nbconvert_exporter": "python",
   "pygments_lexer": "ipython3",
   "version": "3.13.2"
  }
 },
 "nbformat": 4,
 "nbformat_minor": 5
}
