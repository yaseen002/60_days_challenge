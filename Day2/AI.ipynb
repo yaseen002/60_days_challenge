{
 "cells": [
  {
   "cell_type": "markdown",
   "id": "bc5a364b-d0d7-4c3f-a18a-12be47a0d075",
   "metadata": {},
   "source": [
    "# NumPy Arrays"
   ]
  },
  {
   "cell_type": "markdown",
   "id": "5e8bcf47-880c-4515-a4d9-a50f11c1426b",
   "metadata": {},
   "source": [
    "A NumPy array is like a specialized, super-efficient container designed only for numbers (or other single data types). Because it's so specialized, it can do mathematical operations on all its numbers much, much faster than a regular Python list."
   ]
  },
  {
   "cell_type": "markdown",
   "id": "282292dc-d605-4328-86b7-4088b23aa996",
   "metadata": {},
   "source": [
    "## Key Features of NumPy Arrays "
   ]
  },
  {
   "cell_type": "markdown",
   "id": "2a72fb80-8b94-43e3-91a5-528a04762f73",
   "metadata": {},
   "source": [
    "- **Fast Operations:** They are optimized to perform mathematical operations on entire collections of numbers at once.\n",
    "- **Memory Efficient:** They use less memory than Python lists for the same amount of numerical data.\n",
    "- **Homogeneous:** All elements in a NumPy array must be of the same data type (e.g., all integers, all decimal numbers, etc.). This strictness is what allows them to be so fast and efficient.\n",
    "- **Multi-dimensional:** While Python lists are mostly 1-dimensional (a single row of items), NumPy arrays can easily be 2D (like a table/matrix), 3D (like a cube of numbers), or even more dimensions! This is crucial for things like images (2D or 3D) and complex AI models."
   ]
  },
  {
   "cell_type": "markdown",
   "id": "a772be76-0542-4ef6-8470-ababee70c2f7",
   "metadata": {},
   "source": [
    "## Get started with NumPy"
   ]
  },
  {
   "cell_type": "code",
   "execution_count": 1,
   "id": "63ef45c5-db97-41e6-b85a-ea3e6fb3ebda",
   "metadata": {},
   "outputs": [],
   "source": [
    "import numpy as np # This line is almost always at the top of a Python file using NumPy"
   ]
  },
  {
   "cell_type": "markdown",
   "id": "71d35536-5b1a-4a5c-91c2-cfd827ca0eaf",
   "metadata": {},
   "source": [
    "### 1-Dimnetional Array"
   ]
  },
  {
   "cell_type": "code",
   "execution_count": 2,
   "id": "8bf96ac9-1927-4b8a-bc10-0db6b29b08ae",
   "metadata": {},
   "outputs": [],
   "source": [
    "my_1d_list = [10,20,30,40,50]\n",
    "numpy_array = np.array(my_1d_list)"
   ]
  },
  {
   "cell_type": "code",
   "execution_count": 4,
   "id": "f728c9c1-62b2-4f93-bdec-8cba949eeae7",
   "metadata": {},
   "outputs": [
    {
     "name": "stdout",
     "output_type": "stream",
     "text": [
      "My 1D NumPy Array: [10 20 30 40 50]\n",
      "Type of my_numpy_array_1d: <class 'numpy.ndarray'>\n",
      "Shape of my_numpy_array_1d: (5,)\n",
      "------------------------------\n"
     ]
    }
   ],
   "source": [
    "print(\"My 1D NumPy Array:\", numpy_array)\n",
    "print(\"Type of my_numpy_array_1d:\", type(numpy_array))\n",
    "print(\"Shape of my_numpy_array_1d:\", numpy_array.shape) # (5,) means 5 elements in 1 dimension\n",
    "print(\"-\" * 30)"
   ]
  },
  {
   "cell_type": "markdown",
   "id": "faceeacf-4455-42fa-a307-a043dfb04dc1",
   "metadata": {},
   "source": [
    "### 2-Dimensional Array"
   ]
  },
  {
   "cell_type": "code",
   "execution_count": 5,
   "id": "2ba37a74-005f-4c65-a8f2-af57eec4494f",
   "metadata": {},
   "outputs": [],
   "source": [
    "two_dimentional_array = [[1,2,3],[4,5,6],[7,8,9]]\n",
    "numpy_array = np.array(two_dimentional_array)"
   ]
  },
  {
   "cell_type": "code",
   "execution_count": 7,
   "id": "5f6c21f8-c092-4858-9b32-ff4ecf51b7b1",
   "metadata": {},
   "outputs": [
    {
     "name": "stdout",
     "output_type": "stream",
     "text": [
      "My 2D NumPy Array:\n",
      " [[1 2 3]\n",
      " [4 5 6]\n",
      " [7 8 9]]\n",
      "Shape of my_numpy_array_2d: (3, 3)\n",
      "------------------------------\n"
     ]
    }
   ],
   "source": [
    "print(\"My 2D NumPy Array:\\n\", numpy_array) # \\n means start a new line for better display\n",
    "print(\"Shape of my_numpy_array_2d:\", numpy_array.shape) # (3, 3) means 3 rows, 3 columns\n",
    "print(\"-\" * 30)"
   ]
  },
  {
   "cell_type": "markdown",
   "id": "832dbcc2-7e0e-4b37-9c18-b0cdf0527ec7",
   "metadata": {},
   "source": [
    "### Zero Array(Array Containing only ZERO)"
   ]
  },
  {
   "cell_type": "code",
   "execution_count": 11,
   "id": "d71143fd-25d2-4b31-ade5-ef19c43aab68",
   "metadata": {},
   "outputs": [
    {
     "data": {
      "text/plain": [
       "array([0., 0., 0., 0., 0.])"
      ]
     },
     "execution_count": 11,
     "metadata": {},
     "output_type": "execute_result"
    }
   ],
   "source": [
    "zero_array = np.zeros(5) # 5 zeros\n",
    "zero_array"
   ]
  },
  {
   "cell_type": "markdown",
   "id": "38f205b1-91c9-4348-9335-f76abefb9613",
   "metadata": {},
   "source": [
    "### Ones Array(Array Containing only One)"
   ]
  },
  {
   "cell_type": "code",
   "execution_count": 17,
   "id": "9883623c-9445-40ad-88f2-748aee72404d",
   "metadata": {},
   "outputs": [
    {
     "data": {
      "text/plain": [
       "array([[1., 1., 1.],\n",
       "       [1., 1., 1.]])"
      ]
     },
     "execution_count": 17,
     "metadata": {},
     "output_type": "execute_result"
    }
   ],
   "source": [
    "one_array = np.ones((2,3)) # a 2x3 array of ones\n",
    "one_array"
   ]
  },
  {
   "cell_type": "markdown",
   "id": "bae33f91-d939-42a0-b38b-b6500f1af834",
   "metadata": {},
   "source": [
    "### Range of numbers Array(Array Containing Range of numbers)"
   ]
  },
  {
   "cell_type": "code",
   "execution_count": 19,
   "id": "4df702a0-761d-419d-a76d-a92786589fb7",
   "metadata": {},
   "outputs": [
    {
     "data": {
      "text/plain": [
       "array([0, 2, 4, 6, 8])"
      ]
     },
     "execution_count": 19,
     "metadata": {},
     "output_type": "execute_result"
    }
   ],
   "source": [
    "range_array = np.arange(0, 10, 2) # numbers from 0 up to (but not including) 10, stepping by 2\n",
    "range_array"
   ]
  },
  {
   "cell_type": "markdown",
   "id": "66b34ed7-e54c-40fd-8a6c-8d7780ee8e78",
   "metadata": {},
   "source": [
    "---\n",
    "## Indexing NumPy Arrays\n",
    "Indexing in NumPy is very similar to Python lists, but it gets more powerful with multi-dimensional arrays. Remember: indexing always starts from 0!"
   ]
  },
  {
   "cell_type": "markdown",
   "id": "bf7ce42e-5956-497d-bfe5-cb2d28837eab",
   "metadata": {},
   "source": [
    "### a. 1-Dimensional Array Indexing"
   ]
  },
  {
   "cell_type": "code",
   "execution_count": 20,
   "id": "4d1735b8-95ef-4d86-a40f-b2eea5534cc4",
   "metadata": {},
   "outputs": [
    {
     "name": "stdout",
     "output_type": "stream",
     "text": [
      "First score (index 0): 100\n",
      "Third score (index 2): 80\n",
      "Last score (negative index): 10\n"
     ]
    }
   ],
   "source": [
    "scores = np.array([100, 95, 80, 70, 10])\n",
    "\n",
    "print(\"First score (index 0):\", scores[0])   # Output: 100\n",
    "print(\"Third score (index 2):\", scores[2])   # Output: 80\n",
    "print(\"Last score (negative index):\", scores[-1]) # Output: 10 (Accesses from the end)"
   ]
  },
  {
   "cell_type": "markdown",
   "id": "e7a280e3-9173-44af-bfd8-b355da5bd2d9",
   "metadata": {},
   "source": [
    "### b. 2-Dimensional Array Indexing (Rows and Columns)"
   ]
  },
  {
   "cell_type": "code",
   "execution_count": 21,
   "id": "456208e5-b1b4-4994-ae68-cb6697283b48",
   "metadata": {},
   "outputs": [
    {
     "name": "stdout",
     "output_type": "stream",
     "text": [
      "Our 2D data array:\n",
      " [[10 11 12]\n",
      " [20 21 22]\n",
      " [30 31 32]]\n",
      "------------------------------\n",
      "Element at [0, 1]: 11\n",
      "Element at [1, 2]: 22\n",
      "Entire row 0: [10 11 12]\n",
      "Entire column 1: [11 21 31]\n"
     ]
    }
   ],
   "source": [
    "data = np.array([[10, 11, 12],\n",
    "                 [20, 21, 22],\n",
    "                 [30, 31, 32]])\n",
    "\n",
    "print(\"Our 2D data array:\\n\", data)\n",
    "print(\"-\" * 30)\n",
    "\n",
    "# Get the element at row 0, column 1 (which is 11)\n",
    "print(\"Element at [0, 1]:\", data[0, 1]) # Output: 11\n",
    "\n",
    "# Get the element at row 1, column 2 (which is 22)\n",
    "print(\"Element at [1, 2]:\", data[1, 2]) # Output: 22\n",
    "\n",
    "# Get an entire row (e.g., row 0)\n",
    "print(\"Entire row 0:\", data[0, :]) # Output: [10 11 12]\n",
    "                                 # The `:` means \"all columns\" in this row\n",
    "\n",
    "# Get an entire column (e.g., column 1)\n",
    "print(\"Entire column 1:\", data[:, 1]) # Output: [11 21 31]\n",
    "                                 # The `:` means \"all rows\" in this column"
   ]
  },
  {
   "cell_type": "markdown",
   "id": "735c9a69-13f3-4efb-8526-2717ef9c7dd1",
   "metadata": {},
   "source": [
    "---\n",
    "## Slicing Arrays\n",
    "Slicing is like taking a continuous portion of your array. It uses the start:stop:step notation, just like Python lists.\n",
    "\n",
    "### Slicing 1D Array"
   ]
  },
  {
   "cell_type": "code",
   "execution_count": 23,
   "id": "5f75c2dc-52b5-4e20-a904-4542a2922769",
   "metadata": {},
   "outputs": [
    {
     "name": "stdout",
     "output_type": "stream",
     "text": [
      "Original numbers: [0 1 2 3 4 5 6 7 8 9]\n"
     ]
    }
   ],
   "source": [
    "numbers = np.array([0, 1, 2, 3, 4, 5, 6, 7, 8, 9])\n",
    "print(\"Original numbers:\", numbers)"
   ]
  },
  {
   "cell_type": "code",
   "execution_count": 24,
   "id": "e7911f78-e8d8-4296-ad44-9623a6388409",
   "metadata": {},
   "outputs": [
    {
     "name": "stdout",
     "output_type": "stream",
     "text": [
      "Slice [2:6]: [2 3 4 5]\n"
     ]
    }
   ],
   "source": [
    "# Get elements from index 2 up to (but not including) index 6\n",
    "print(\"Slice [2:6]:\", numbers[2:6]) # Output: [2 3 4 5]"
   ]
  },
  {
   "cell_type": "code",
   "execution_count": 25,
   "id": "da1a2e29-f2cf-4041-bf31-8673865eee7c",
   "metadata": {},
   "outputs": [
    {
     "name": "stdout",
     "output_type": "stream",
     "text": [
      "Slice [:5]: [0 1 2 3 4]\n"
     ]
    }
   ],
   "source": [
    "# Get elements from the beginning up to index 5\n",
    "print(\"Slice [:5]:\", numbers[:5])   # Output: [0 1 2 3 4]"
   ]
  },
  {
   "cell_type": "code",
   "execution_count": 26,
   "id": "4bc08a1a-f545-4c99-a49f-d91667680188",
   "metadata": {},
   "outputs": [
    {
     "name": "stdout",
     "output_type": "stream",
     "text": [
      "Slice [7:]: [7 8 9]\n"
     ]
    }
   ],
   "source": [
    "# Get elements from index 7 to the end\n",
    "print(\"Slice [7:]:\", numbers[7:])   # Output: [7 8 9]"
   ]
  },
  {
   "cell_type": "code",
   "execution_count": 27,
   "id": "f36e0ed6-ecbe-4cbc-9cd5-3f8b1e5d1d13",
   "metadata": {},
   "outputs": [
    {
     "name": "stdout",
     "output_type": "stream",
     "text": [
      "Slice [::2]: [0 2 4 6 8]\n"
     ]
    }
   ],
   "source": [
    "# Get every other element (step of 2)\n",
    "print(\"Slice [::2]:\", numbers[::2]) # Output: [0 2 4 6 8]"
   ]
  },
  {
   "cell_type": "markdown",
   "id": "65592627-6f12-442f-b829-e0d0c7329412",
   "metadata": {},
   "source": [
    "### Slicing 2D Array"
   ]
  },
  {
   "cell_type": "code",
   "execution_count": 28,
   "id": "0ff23196-df67-49f9-8b1b-a70c93cb7a70",
   "metadata": {},
   "outputs": [
    {
     "name": "stdout",
     "output_type": "stream",
     "text": [
      "\n",
      "Original Matrix:\n",
      " [[ 1  2  3  4]\n",
      " [ 5  6  7  8]\n",
      " [ 9 10 11 12]]\n"
     ]
    }
   ],
   "source": [
    "# Slicing in 2D arrays:\n",
    "matrix = np.array([[1, 2, 3, 4],\n",
    "                   [5, 6, 7, 8],\n",
    "                   [9, 10, 11, 12]])\n",
    "\n",
    "print(\"\\nOriginal Matrix:\\n\", matrix)"
   ]
  },
  {
   "cell_type": "code",
   "execution_count": 29,
   "id": "f33f5fa3-707b-4f9b-a93f-dbb42292b32e",
   "metadata": {},
   "outputs": [
    {
     "name": "stdout",
     "output_type": "stream",
     "text": [
      "Sub-matrix [0:2, 1:3]:\n",
      " [[2 3]\n",
      " [6 7]]\n"
     ]
    }
   ],
   "source": [
    "# Get the first two rows, and columns 1 through 3 (not including 3)\n",
    "sub_matrix = matrix[0:2, 1:3]\n",
    "print(\"Sub-matrix [0:2, 1:3]:\\n\", sub_matrix)"
   ]
  },
  {
   "cell_type": "markdown",
   "id": "45d2669d-80d2-4aec-a624-8d45583f613e",
   "metadata": {},
   "source": [
    "---\n",
    "## Basic Operations on NumPy Arrays"
   ]
  },
  {
   "cell_type": "markdown",
   "id": "f8aba0c5-599d-4cd7-97f9-93ee3e58ca3d",
   "metadata": {},
   "source": [
    "### 1. Element-wise Operations\n",
    "add, subtract, multiply, or divide entire arrays by a number, or even by another array (if they have the same shape). This applies the operation to each individual element."
   ]
  },
  {
   "cell_type": "code",
   "execution_count": 32,
   "id": "65b97cde-1ef1-4ef9-b043-567c00ec2b9d",
   "metadata": {},
   "outputs": [],
   "source": [
    "array1 = np.array([1, 2, 3])\n",
    "array2 = np.array([10, 20, 30])"
   ]
  },
  {
   "cell_type": "code",
   "execution_count": 34,
   "id": "a578200f-4e45-4567-a9cc-322ffcbbad05",
   "metadata": {},
   "outputs": [
    {
     "name": "stdout",
     "output_type": "stream",
     "text": [
      "Array1 + 5: [6 7 8]\n"
     ]
    }
   ],
   "source": [
    "# add a number to every element\n",
    "print(\"Array1 + 5:\", array1 + 5)"
   ]
  },
  {
   "cell_type": "code",
   "execution_count": 35,
   "id": "bf09fc7d-b129-417a-aa4a-4ecc78a1c84c",
   "metadata": {},
   "outputs": [
    {
     "name": "stdout",
     "output_type": "stream",
     "text": [
      "Array1 * 2 => [2 4 6]\n"
     ]
    }
   ],
   "source": [
    "# Multiply every element by a number\n",
    "print(\"Array1 * 2 =>\", array1 * 2)"
   ]
  },
  {
   "cell_type": "code",
   "execution_count": 36,
   "id": "2e3df35f-fef3-419d-bedf-31d8864b5f33",
   "metadata": {},
   "outputs": [
    {
     "name": "stdout",
     "output_type": "stream",
     "text": [
      "Array1 + Array2: [11 22 33]\n"
     ]
    }
   ],
   "source": [
    "# Add two arrays (element by element)\n",
    "print(\"Array1 + Array2:\", array1 + array2) # Output: [11 22 33]"
   ]
  },
  {
   "cell_type": "code",
   "execution_count": 37,
   "id": "66e9f103-54ed-4f04-af29-52abdde4d072",
   "metadata": {},
   "outputs": [
    {
     "name": "stdout",
     "output_type": "stream",
     "text": [
      "Array1 * Array2: [10 40 90]\n"
     ]
    }
   ],
   "source": [
    "# Multiply two arrays (element by element)\n",
    "print(\"Array1 * Array2:\", array1 * array2) # Output: [10 40 90]"
   ]
  },
  {
   "cell_type": "markdown",
   "id": "3d1fe2b3-4486-45fb-920a-5ed2107f0f03",
   "metadata": {},
   "source": [
    "### 2. Aggregate Operations\n",
    "NumPy provides many functions to calculate things like sum, mean (average), min, max of all elements in an array."
   ]
  },
  {
   "cell_type": "code",
   "execution_count": 38,
   "id": "ddf65cef-f990-4513-840e-9b2d0719e53f",
   "metadata": {},
   "outputs": [
    {
     "data": {
      "text/plain": [
       "array([10,  5, 20, 15, 30])"
      ]
     },
     "execution_count": 38,
     "metadata": {},
     "output_type": "execute_result"
    }
   ],
   "source": [
    "data_values = np.array([10, 5, 20, 15, 30])\n",
    "data_values"
   ]
  },
  {
   "cell_type": "markdown",
   "id": "b0a38bf0-724a-4ea4-81b6-e78a1495fe27",
   "metadata": {},
   "source": [
    "#### Sum OF all values"
   ]
  },
  {
   "cell_type": "code",
   "execution_count": 39,
   "id": "49b1418c-d26e-46af-bcab-ddba565c1656",
   "metadata": {},
   "outputs": [
    {
     "data": {
      "text/plain": [
       "np.int64(80)"
      ]
     },
     "execution_count": 39,
     "metadata": {},
     "output_type": "execute_result"
    }
   ],
   "source": [
    "np.sum(data_values)"
   ]
  },
  {
   "cell_type": "markdown",
   "id": "817494f1-bb05-4423-a63d-bc106337f135",
   "metadata": {},
   "source": [
    "#### Average (Mean) of values"
   ]
  },
  {
   "cell_type": "code",
   "execution_count": 40,
   "id": "56c1c32f-6614-44ba-8786-87088f65e5fc",
   "metadata": {},
   "outputs": [
    {
     "data": {
      "text/plain": [
       "np.float64(16.0)"
      ]
     },
     "execution_count": 40,
     "metadata": {},
     "output_type": "execute_result"
    }
   ],
   "source": [
    "np.mean(data_values)"
   ]
  },
  {
   "cell_type": "markdown",
   "id": "439eb2cf-b0ef-4cf8-968a-a148eb03e8ac",
   "metadata": {},
   "source": [
    "#### Maximum value"
   ]
  },
  {
   "cell_type": "code",
   "execution_count": 41,
   "id": "1a4f53c2-affa-4f91-9b7d-352c1cec918f",
   "metadata": {},
   "outputs": [
    {
     "data": {
      "text/plain": [
       "np.int64(30)"
      ]
     },
     "execution_count": 41,
     "metadata": {},
     "output_type": "execute_result"
    }
   ],
   "source": [
    "np.max(data_values)"
   ]
  },
  {
   "cell_type": "markdown",
   "id": "d1fa10e8-19b9-4835-9a0f-a0537151af1e",
   "metadata": {},
   "source": [
    "#### Minimum value"
   ]
  },
  {
   "cell_type": "code",
   "execution_count": 42,
   "id": "93092d23-e1be-4730-81d8-10962c3ded35",
   "metadata": {},
   "outputs": [
    {
     "data": {
      "text/plain": [
       "np.int64(5)"
      ]
     },
     "execution_count": 42,
     "metadata": {},
     "output_type": "execute_result"
    }
   ],
   "source": [
    "np.min(data_values)"
   ]
  },
  {
   "cell_type": "markdown",
   "id": "ecf44f8f-bdb5-4fcd-81ac-48abab735e3b",
   "metadata": {},
   "source": [
    "### 3. Operations along Axes (for Multi-dimensional Arrays)\n",
    "When you have 2D or higher-dimensional arrays, you can perform operations along specific axes.\n",
    "\n",
    "- axis=0: Operations are done column-wise (down the columns).\n",
    "- axis=1: Operations are done row-wise (across the rows)."
   ]
  },
  {
   "cell_type": "code",
   "execution_count": 44,
   "id": "18314447-f8c4-482c-99c6-c2e1b0dbc80a",
   "metadata": {},
   "outputs": [
    {
     "name": "stdout",
     "output_type": "stream",
     "text": [
      "Original Matrix:\n",
      " [[1 2 3]\n",
      " [4 5 6]]\n"
     ]
    }
   ],
   "source": [
    "matrix = np.array([[1, 2, 3],\n",
    "                   [4, 5, 6]])\n",
    "\n",
    "print(\"Original Matrix:\\n\", matrix)"
   ]
  },
  {
   "cell_type": "markdown",
   "id": "64c7c386-b206-4d76-9949-99a78c14d970",
   "metadata": {},
   "source": [
    "#### Sum of elements in each column (axis=0)"
   ]
  },
  {
   "cell_type": "code",
   "execution_count": 45,
   "id": "f758f4cb-5593-4617-bd2e-2dac250306e4",
   "metadata": {},
   "outputs": [
    {
     "data": {
      "text/plain": [
       "array([5, 7, 9])"
      ]
     },
     "execution_count": 45,
     "metadata": {},
     "output_type": "execute_result"
    }
   ],
   "source": [
    "np.sum(matrix, axis=0)"
   ]
  },
  {
   "cell_type": "markdown",
   "id": "762dfdc4-7220-4aa9-9298-2883633aa7b1",
   "metadata": {},
   "source": [
    "#### Sum of elements in each row (axis=1)"
   ]
  },
  {
   "cell_type": "code",
   "execution_count": 46,
   "id": "9a3587d1-1d38-48a2-9796-d7327c355502",
   "metadata": {},
   "outputs": [
    {
     "data": {
      "text/plain": [
       "array([ 6, 15])"
      ]
     },
     "execution_count": 46,
     "metadata": {},
     "output_type": "execute_result"
    }
   ],
   "source": [
    "np.sum(matrix, axis=1)"
   ]
  },
  {
   "cell_type": "markdown",
   "id": "a4390988-264d-40c8-993e-705719d3f260",
   "metadata": {},
   "source": [
    "#### Same for mean, max, etc."
   ]
  },
  {
   "cell_type": "code",
   "execution_count": 47,
   "id": "94db23eb-a413-4d1c-b1b5-0b628d680582",
   "metadata": {},
   "outputs": [
    {
     "name": "stdout",
     "output_type": "stream",
     "text": [
      "Mean along axis 0: [2.5 3.5 4.5]\n",
      "Mean along axis 1: [2. 5.]\n"
     ]
    }
   ],
   "source": [
    "print(\"Mean along axis 0:\", np.mean(matrix, axis=0))\n",
    "print(\"Mean along axis 1:\", np.mean(matrix, axis=1))"
   ]
  },
  {
   "cell_type": "markdown",
   "id": "d9711322-7788-42ae-a60a-9c17d925af29",
   "metadata": {},
   "source": [
    "---\n",
    "---\n",
    "# Mini Project (30 mins): \n",
    "Create a NumPy array, compute mean, and multiply two 2x2 matrices."
   ]
  },
  {
   "cell_type": "code",
   "execution_count": 53,
   "id": "de645c0a-b522-4932-b930-5510b4716245",
   "metadata": {},
   "outputs": [
    {
     "name": "stdout",
     "output_type": "stream",
     "text": [
      "[[1 2 3]\n",
      " [4 5 6]]\n",
      "[[ 7  8  9]\n",
      " [10 11 12]]\n"
     ]
    }
   ],
   "source": [
    "array1 = np.array([\n",
    "    [1,2,3],\n",
    "    [4,5,6]\n",
    "])\n",
    "array2 = np.array([\n",
    "    [7,8,9],\n",
    "    [10,11,12]\n",
    "])\n",
    "print(array1)\n",
    "print(array2)"
   ]
  },
  {
   "cell_type": "code",
   "execution_count": 54,
   "id": "89ad6bf6-9848-49a8-ae8d-ca3c13e98a17",
   "metadata": {},
   "outputs": [
    {
     "name": "stdout",
     "output_type": "stream",
     "text": [
      "3.5\n",
      "9.5\n"
     ]
    }
   ],
   "source": [
    "# Compute mean\n",
    "print(np.mean(array1))\n",
    "print(np.mean(array2))"
   ]
  },
  {
   "cell_type": "code",
   "execution_count": 56,
   "id": "ae27d3f6-939a-4103-9863-8325eceb1ee2",
   "metadata": {},
   "outputs": [
    {
     "data": {
      "text/plain": [
       "array([[ 7, 16, 27],\n",
       "       [40, 55, 72]])"
      ]
     },
     "execution_count": 56,
     "metadata": {},
     "output_type": "execute_result"
    }
   ],
   "source": [
    "# Multiply two 2x2 matrices\n",
    "array1 * array2"
   ]
  }
 ],
 "metadata": {
  "kernelspec": {
   "display_name": "Python 3 (ipykernel)",
   "language": "python",
   "name": "python3"
  },
  "language_info": {
   "codemirror_mode": {
    "name": "ipython",
    "version": 3
   },
   "file_extension": ".py",
   "mimetype": "text/x-python",
   "name": "python",
   "nbconvert_exporter": "python",
   "pygments_lexer": "ipython3",
   "version": "3.13.2"
  }
 },
 "nbformat": 4,
 "nbformat_minor": 5
}
