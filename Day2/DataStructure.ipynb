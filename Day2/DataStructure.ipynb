{
 "cells": [
  {
   "cell_type": "markdown",
   "id": "d5a5b9c1-fe70-4c1a-96bd-400f7836bc62",
   "metadata": {},
   "source": [
    "# Arrays (Two-Pointer Technique)"
   ]
  },
  {
   "cell_type": "markdown",
   "id": "584083c4-9688-4712-9e54-e0afca2bf695",
   "metadata": {},
   "source": [
    "## Arrays in Python: \n",
    "- Understanding lists and Common Operations\n",
    "\n",
    "In Python, the primary built-in data structure that functions like an array is the list. While Python lists are often called **\"dynamic arrays\"** because they can change size, it's important to understand how they work and the common operations you'll perform."
   ]
  },
  {
   "cell_type": "markdown",
   "id": "634a35ea-3c77-4d53-8867-ae7419ed6d17",
   "metadata": {},
   "source": [
    "## What is a Python list?\n",
    "\n",
    "Think of a **Python list** as an ordered, mutable (changeable) collection of items.\n",
    "\n",
    "- Ordered: The items are kept in a specific sequence, and their order will not change unless you modify the list.\n",
    "- Mutable: You can add, remove, or change elements after the list has been created.\n",
    "- Heterogeneous: Unlike strict arrays in languages like C++ or Java, a Python list can hold items of different data types (e.g., integers, strings, even other lists) within the same list.\n",
    "- Indexed: Like traditional arrays, elements are accessed using an integer index, starting from 0."
   ]
  },
  {
   "cell_type": "markdown",
   "id": "8cff77d4-06b1-4691-913b-108f3e598e14",
   "metadata": {},
   "source": [
    "## Conceptual Difference from **\"Strict\"** Arrays:\n",
    "\n",
    "While Python lists behave like arrays to a user, their underlying implementation is more flexible. In many other languages, an array allocates a fixed, contiguous block of memory for elements of the same size. Python lists, however, store references (memory addresses) to the actual objects, which can be scattered in memory and vary in size. This flexibility is what allows them to be heterogeneous and dynamic, but it can sometimes make them slightly less memory-efficient or slower for purely numerical operations compared to, say, NumPy arrays."
   ]
  },
  {
   "cell_type": "markdown",
   "id": "de6cc46c-ba1f-4e27-b21a-359325a18617",
   "metadata": {},
   "source": [
    "## Creating a Python list"
   ]
  },
  {
   "cell_type": "code",
   "execution_count": 1,
   "id": "e47e10db-e213-4ac7-83fb-9066274c3682",
   "metadata": {},
   "outputs": [
    {
     "name": "stdout",
     "output_type": "stream",
     "text": [
      "Numbers list: [1, 2, 3, 4, 5]\n",
      "Fruits list: ['apple', 'banana', 'cherry']\n",
      "Mixed list: [1, 'hello', 3.14, True]\n"
     ]
    }
   ],
   "source": [
    "# An empty list\n",
    "empty_list = []\n",
    "\n",
    "# A list of integers\n",
    "numbers = [1, 2, 3, 4, 5]\n",
    "\n",
    "# A list of strings\n",
    "fruits = [\"apple\", \"banana\", \"cherry\"]\n",
    "\n",
    "# A list with mixed data types (possible in Python lists!)\n",
    "mixed_list = [1, \"hello\", 3.14, True]\n",
    "\n",
    "print(\"Numbers list:\", numbers)\n",
    "print(\"Fruits list:\", fruits)\n",
    "print(\"Mixed list:\", mixed_list)"
   ]
  },
  {
   "cell_type": "markdown",
   "id": "a6119c1a-4210-4951-938e-5809032528f4",
   "metadata": {},
   "source": [
    "## Common List Operations"
   ]
  },
  {
   "cell_type": "code",
   "execution_count": 2,
   "id": "665ec9c7-1487-4865-a863-ed10ca154503",
   "metadata": {},
   "outputs": [],
   "source": [
    "my_list = [1,2,3,4,5,6,7,8,9]"
   ]
  },
  {
   "cell_type": "markdown",
   "id": "156c74c1-cd6b-460c-9512-4292166b32f8",
   "metadata": {},
   "source": [
    "### 1. Accessing Elements (Indexing)\n",
    "- **Time Complexity: O(1) - very fast!**"
   ]
  },
  {
   "cell_type": "code",
   "execution_count": 3,
   "id": "6e8d9dc2-bd13-4d39-afd4-cd2da97d0e5f",
   "metadata": {},
   "outputs": [
    {
     "name": "stdout",
     "output_type": "stream",
     "text": [
      "First element: 1\n",
      "Third element: 3\n",
      "Last element: 9\n",
      "Second to last element: 8\n"
     ]
    }
   ],
   "source": [
    "print(\"First element:\", my_list[0])   # Output: a\n",
    "print(\"Third element:\", my_list[2])   # Output: c\n",
    "print(\"Last element:\", my_list[-1])  # Output: e\n",
    "print(\"Second to last element:\", my_list[-2]) # Output: d"
   ]
  },
  {
   "cell_type": "markdown",
   "id": "ede1d5ff-ae40-4e05-8008-69973427f033",
   "metadata": {},
   "source": [
    "### 2. Modifying Elements\n",
    "- Syntax: list_name[index] = new_value\n",
    "- Time Complexity: O(1) - very fast!"
   ]
  },
  {
   "cell_type": "code",
   "execution_count": 4,
   "id": "c58dbb84-72c2-4735-bbd8-dca01d3d4ab2",
   "metadata": {},
   "outputs": [
    {
     "name": "stdout",
     "output_type": "stream",
     "text": [
      "Original numbers: [10, 20, 30, 40, 50]\n",
      "Modified numbers: [5, 20, 30, 45, 50]\n"
     ]
    }
   ],
   "source": [
    "numbers = [10, 20, 30, 40, 50]\n",
    "print(\"Original numbers:\", numbers)\n",
    "\n",
    "numbers[0] = 5  # Change the first element\n",
    "numbers[3] = 45 # Change the fourth element\n",
    "\n",
    "print(\"Modified numbers:\", numbers) # Output: [5, 20, 30, 45, 50]"
   ]
  },
  {
   "cell_type": "markdown",
   "id": "8dc93356-18af-4d50-9d5c-21a7358ebc92",
   "metadata": {},
   "source": [
    "### 3. Adding Elements\n",
    "- append(item): Adds an item to the end of the list.\n",
    "  - Time Complexity: O(1) (amortized) - generally very fast.\n",
    "- insert(index, item): Inserts an item at a specific index. This involves shifting existing elements.\n",
    "  - Time Complexity: O(N) - can be slow if inserting near the beginning of a large list."
   ]
  },
  {
   "cell_type": "code",
   "execution_count": 5,
   "id": "cfaee613-8bdd-4dbe-b0bc-a85e22e81b26",
   "metadata": {},
   "outputs": [
    {
     "name": "stdout",
     "output_type": "stream",
     "text": [
      "Original list: ['apple', 'banana']\n",
      "After append: ['apple', 'banana', 'cherry']\n",
      "After insert: ['apple', 'orange', 'banana', 'cherry']\n"
     ]
    }
   ],
   "source": [
    "my_list = ['apple', 'banana']\n",
    "print(\"Original list:\", my_list)\n",
    "\n",
    "my_list.append('cherry') # Add to the end\n",
    "print(\"After append:\", my_list) # Output: ['apple', 'banana', 'cherry']\n",
    "\n",
    "my_list.insert(1, 'orange') # Insert at index 1\n",
    "print(\"After insert:\", my_list) # Output: ['apple', 'orange', 'banana', 'cherry']"
   ]
  },
  {
   "cell_type": "markdown",
   "id": "c458d013-720e-4ee5-a41b-d96a5de96c80",
   "metadata": {},
   "source": [
    "### 4. Removing Elements\n",
    "\n",
    "- **remove(item):** Removes the first occurrence of a specified value.\n",
    "  - **Time Complexity:** O(N) - has to search for the item.\n",
    "- **pop(index):** Removes and returns the item at a specific index. If no index is given, it removes and returns the last item.\n",
    "  - **Time Complexity:** O(N) (for specific index), O(1) (for last element).\n",
    "- **del list_name[index]:** Removes the item at a specific index.\n",
    "  - **Time Complexity:** O(N).\n"
   ]
  },
  {
   "cell_type": "code",
   "execution_count": 6,
   "id": "888010fa-e43b-4f7c-bfb6-7be7aaf39e0f",
   "metadata": {},
   "outputs": [
    {
     "name": "stdout",
     "output_type": "stream",
     "text": [
      "Original list: ['a', 'b', 'c', 'b', 'd']\n",
      "After remove('b'): ['a', 'c', 'b', 'd']\n",
      "After pop(0): ['c', 'b', 'd']\n",
      "Removed item: a\n",
      "After del my_list[1]: ['c', 'd']\n"
     ]
    }
   ],
   "source": [
    "my_list = ['a', 'b', 'c', 'b', 'd']\n",
    "print(\"Original list:\", my_list)\n",
    "\n",
    "my_list.remove('b') # Removes the first 'b'\n",
    "print(\"After remove('b'):\", my_list) # Output: ['a', 'c', 'b', 'd']\n",
    "\n",
    "removed_item = my_list.pop(0) # Remove and get element at index 0\n",
    "print(\"After pop(0):\", my_list)   # Output: ['c', 'b', 'd']\n",
    "print(\"Removed item:\", removed_item) # Output: a\n",
    "\n",
    "del my_list[1] # Delete element at index 1 ('b')\n",
    "print(\"After del my_list[1]:\", my_list) # Output: ['c', 'd']"
   ]
  },
  {
   "cell_type": "markdown",
   "id": "7b84d2bc-5a34-4518-9503-b499f7c0857f",
   "metadata": {},
   "source": [
    "### 5. Slicing"
   ]
  },
  {
   "cell_type": "code",
   "execution_count": 10,
   "id": "e98c3baa-0b9f-4553-8c78-f55f751183e4",
   "metadata": {},
   "outputs": [
    {
     "name": "stdout",
     "output_type": "stream",
     "text": [
      "Full list: [0, 1, 2, 3, 4, 5, 6, 7, 8, 9]\n",
      "Slice [2:6]: [2, 3, 4, 5]\n",
      "Slice [:5]: [0, 1, 2, 3, 4]\n",
      "Slice [7:]: [7, 8, 9]\n",
      "Slice [::2]: [0, 2, 4, 6, 8]\n",
      "Reverse list: [9, 8, 7, 6, 5, 4, 3, 2, 1, 0]\n"
     ]
    }
   ],
   "source": [
    "numbers = [0, 1, 2, 3, 4, 5, 6, 7, 8, 9]\n",
    "\n",
    "print(\"Full list:\", numbers)\n",
    "print(\"Slice [2:6]:\", numbers[2:6])   # Output: [2, 3, 4, 5]\n",
    "print(\"Slice [:5]:\", numbers[:5])     # Output: [0, 1, 2, 3, 4]\n",
    "print(\"Slice [7:]:\", numbers[7:])     # Output: [7, 8, 9]\n",
    "print(\"Slice [::2]:\", numbers[::2])   # Output: [0, 2, 4, 6, 8] (every other element)\n",
    "print(\"Reverse list:\", numbers[::-1]) # Output: [9, 8, 7, 6, 5, 4, 3, 2, 1, 0]"
   ]
  },
  {
   "cell_type": "markdown",
   "id": "2c673306-ed6d-4b53-bca8-74b78e05bafb",
   "metadata": {},
   "source": [
    "### 6. Length of List\n",
    "\n",
    "Extracts a portion (a \"slice\") of a list.\n",
    "\n",
    "- **Syntax:** list_name[start:stop:step]\n",
    "  - **start:** (Optional) Index where the slice begins (inclusive, default 0).\n",
    "  - **stop:** (Optional) Index where the slice ends (exclusive, default end of list).\n",
    "  - **step:** (Optional) The increment between elements (default 1).\n",
    "- **Time Complexity:** O(k) where k is the length of the slice."
   ]
  },
  {
   "cell_type": "code",
   "execution_count": 9,
   "id": "15a4bf6a-8bf8-455d-bbf6-ade1e3b8ec87",
   "metadata": {},
   "outputs": [
    {
     "name": "stdout",
     "output_type": "stream",
     "text": [
      "Number of fruits: 3\n"
     ]
    }
   ],
   "source": [
    "fruits = [\"apple\", \"banana\", \"cherry\"]\n",
    "print(\"Number of fruits:\", len(fruits)) # Output: 3"
   ]
  },
  {
   "cell_type": "markdown",
   "id": "70452994-f5b9-42f6-9dbe-9d5418c2dfe9",
   "metadata": {},
   "source": [
    "---\n",
    "***\n",
    "---\n",
    "# Two-Pointer Technique (for Arrays/Lists)\n"
   ]
  },
  {
   "cell_type": "markdown",
   "id": "f2d8f3da-e5f5-40f4-842c-22cbe6130ef7",
   "metadata": {},
   "source": [
    "**Two-Pointer Technique (for Arrays/Lists)**\n",
    "The Two-Pointer Technique is a very common and efficient algorithm pattern used to solve problems on sorted arrays (or sometimes unsorted arrays where order doesn't matter or can be made to matter). It involves using two pointers (variables) that traverse the array, usually from opposite ends or both from the same end, to achieve a specific goal.\n",
    "\n",
    "**Why use it?**\n",
    "\n",
    "- Efficiency: It can often reduce the time complexity of a solution from O(N^2) (e.g., using nested loops) to O(N) or O(N log N) by avoiding redundant checks.\n",
    "- Simplicity: Once you grasp the pattern, many problems become much simpler to conceptualize.\n",
    "- Space Efficiency: It usually requires very little extra space (O(1)), as you're just storing two variables.\n",
    "\n",
    "**Common Scenarios for Two Pointers:**\n",
    "\n",
    "- Pointers starting at opposite ends and moving towards the middle:\n",
    "  - Searching for a pair with a specific sum in a sorted array.\n",
    "  - Checking if a string/array is a palindrome.\n",
    "  - Reversing an array.\n",
    "- Pointers starting at the same end (usually the beginning) and moving at different speeds:\n",
    "  - Removing duplicates from a sorted array.\n",
    "  - Finding a sub-array/sub-string with certain properties (e.g., \"sliding window\" often uses two pointers)."
   ]
  },
  {
   "cell_type": "markdown",
   "id": "5c5f24d5-d483-4c34-842d-32ddbedc4a06",
   "metadata": {},
   "source": [
    "---\n",
    "---\n",
    "---\n",
    "# Move Zeroes"
   ]
  },
  {
   "cell_type": "code",
   "execution_count": 11,
   "id": "0e8b43e1-df5c-40cc-a7e4-c79ee548c004",
   "metadata": {},
   "outputs": [
    {
     "name": "stdout",
     "output_type": "stream",
     "text": [
      "[1, 3, 12, 0, 0]\n"
     ]
    }
   ],
   "source": [
    "class Solution:\n",
    "    def moveZeroes(self, nums):\n",
    "        \"\"\"\n",
    "        Do not return anything, modify nums in-place instead.\n",
    "        \"\"\"\n",
    "        l = 0\n",
    "        for r in range(len(nums)):\n",
    "          if nums[r]:\n",
    "            nums[r], nums[l] = nums[l],nums[r]\n",
    "            l+=1\n",
    "        \n",
    "        \n",
    "nums = [0,1,0,3,12] #Output: [1,3,12,0,0]\n",
    "sol = Solution()\n",
    "sol.moveZeroes(nums)\n",
    "print(nums)"
   ]
  },
  {
   "cell_type": "code",
   "execution_count": null,
   "id": "528a964c-f2d4-4525-863a-e3ad1b8d7c08",
   "metadata": {},
   "outputs": [],
   "source": []
  }
 ],
 "metadata": {
  "kernelspec": {
   "display_name": "Python 3 (ipykernel)",
   "language": "python",
   "name": "python3"
  },
  "language_info": {
   "codemirror_mode": {
    "name": "ipython",
    "version": 3
   },
   "file_extension": ".py",
   "mimetype": "text/x-python",
   "name": "python",
   "nbconvert_exporter": "python",
   "pygments_lexer": "ipython3",
   "version": "3.13.2"
  }
 },
 "nbformat": 4,
 "nbformat_minor": 5
}
