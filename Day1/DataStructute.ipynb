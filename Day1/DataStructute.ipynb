{
 "cells": [
  {
   "cell_type": "markdown",
   "id": "f2959510-040e-4961-b3dd-5acdff9d4af8",
   "metadata": {},
   "source": [
    "# Array"
   ]
  },
  {
   "cell_type": "markdown",
   "id": "17c3c8b2-07e5-448c-9106-58a570d2979e",
   "metadata": {},
   "source": [
    "## What is an Array?"
   ]
  },
  {
   "cell_type": "markdown",
   "id": "a20457a7-8b8b-46a5-8c20-5ed5a2da69ae",
   "metadata": {},
   "source": [
    "Imagine you have a row of identical mailboxes, numbered sequentially from 0, 1, 2, and so on. Each mailbox can hold one item (a letter, a package, etc.).\n",
    "\n",
    "- **A collection of items:** It's a structure that holds multiple data items.\n",
    "\n",
    "- **Same data type:** All items in an array must be of the same data type (e.g., all integers, all strings, all\n",
    "\n",
    "- **floating-point numbers).** You can't mix an integer with a string in the same array.\n",
    "\n",
    "- **Contiguous memory locations:** This is the most important characteristic. It means that when you create an array, the computer allocates a single, unbroken block of memory to store all its elements one after another. Think of it like all those mailboxes being right next to each other on the same street.\n",
    "\n",
    "- **Fixed size (often):** In many traditional programming languages (like C++, Java, or even Python lists which are dynamic, but the underlying array can be seen as fixed chunks), arrays are often fixed in size once they are created. This means you specify how many elements it can hold at the time of creation, and you can't easily change that size later without creating a new array. (Python's built-in list is a dynamic array, but the concept of a fundamental array is often fixed-size).\n",
    "\n",
    "- **Indexed:** Each element in an array is identified by a unique number called an index. In most programming languages, array indices start from 0. So, if an array has 5 elements, their indices will be 0, 1, 2, 3, 4."
   ]
  },
  {
   "cell_type": "markdown",
   "id": "eda6651d-ff27-4a76-a4bd-15004b90a06c",
   "metadata": {},
   "source": [
    "## Contiguous Memory, Access, Insert"
   ]
  },
  {
   "cell_type": "markdown",
   "id": "19934bec-54f8-4058-bb07-9a3fa62350b2",
   "metadata": {},
   "source": [
    "### Contiguous Memory "
   ]
  },
  {
   "cell_type": "markdown",
   "id": "f2c631b2-442d-4c52-ae85-0a2ee87b6093",
   "metadata": {},
   "source": [
    "**Elements are stored right next to each other in RAM**\n",
    "**WHY?**\n",
    "- **Fast Access:** Because the computer knows exactly where the array starts in memory and how much space each element takes, it can calculate the memory address of any element almost instantly.\n",
    "    - If the array starts at memory address X, and each integer takes 4 bytes:\n",
    "        - Element at index 0 is at address X + (0 * 4)\n",
    "        - Element at index 1 is at address X + (1 * 4)\n",
    "        - Element at index i is at address X + (i * size_of_element)\n",
    "    - This direct calculation means accessing an element by its index is incredibly fast – it's an **O(1)** operation (constant time complexity), regardless of the array's size.\n",
    "- **Cache Efficiency:** When you access one element in a contiguous block of memory, the computer's CPU often loads nearby elements into its cache. This makes subsequent accesses to adjacent elements even faster, as they are already closer to the CPU."
   ]
  },
  {
   "cell_type": "markdown",
   "id": "988b6be9-8800-46dd-9f46-3021af4474fb",
   "metadata": {},
   "source": [
    "### Accessing Elements\n",
    "\n",
    "Accessing an element in an array means retrieving its value using its index.\n",
    "\n",
    "- Time Complexity: O(1) (Constant Time)\n",
    "- **How it works:** You provide the index, and the system directly fetches the value at that calculated memory location."
   ]
  },
  {
   "cell_type": "code",
   "execution_count": 5,
   "id": "05536ff5-0869-4726-a2dd-b5ad7f2aa8c6",
   "metadata": {},
   "outputs": [
    {
     "name": "stdout",
     "output_type": "stream",
     "text": [
      "10\n",
      "40\n"
     ]
    }
   ],
   "source": [
    "my_array = [10, 20, 30, 40, 50]\n",
    "\n",
    "# Accessing elements\n",
    "print(my_array[0])  # Output: 10 (element at index 0)\n",
    "print(my_array[3])  # Output: 40 (element at index 3)\n",
    "\n",
    "# Accessing an element outside the bounds will cause an error (IndexError)\n",
    "# print(my_array[5]) # This would raise an IndexError"
   ]
  },
  {
   "cell_type": "markdown",
   "id": "35f24c5e-5970-46b3-ab9b-1b3d7f6924f2",
   "metadata": {},
   "source": [
    "### Inserting Elements\n"
   ]
  },
  {
   "cell_type": "markdown",
   "id": "d435aa61-036b-4222-b80c-bc484563e237",
   "metadata": {},
   "source": [
    "Inserting an element into an array can be trickier, especially in the middle, because of the contiguous memory requirement."
   ]
  },
  {
   "cell_type": "markdown",
   "id": "634ee5a2-3acc-4de9-b858-e2ba1dcea6cc",
   "metadata": {},
   "source": [
    "#### a. Inserting at the End (Append):\n",
    "\n",
    "- **Scenario:** If the array has available space at the end.\n",
    "- **Time Complexity:** O(1) (Constant Time) if there's space.\n",
    "- **How it works:** You just place the new element in the next available slot.\n",
    "- **Python list.append():** Python's list is a dynamic array. When you append(), it usually has reserved extra space. If not, it creates a new, larger array, copies all existing elements, and then adds the new one. This \"resizing\" operation is O(N) (linear time), but amortized (on average) it's still considered O(1) because it doesn't happen every time."
   ]
  },
  {
   "cell_type": "code",
   "execution_count": 7,
   "id": "33110847-0486-4ed5-8fe9-1f67fbb9b051",
   "metadata": {},
   "outputs": [
    {
     "name": "stdout",
     "output_type": "stream",
     "text": [
      "[10, 20, 30, 40]\n"
     ]
    }
   ],
   "source": [
    "my_array = [10, 20, 30]\n",
    "# Imagine there's room for one more element\n",
    "my_array.append(40)\n",
    "print(my_array) # Output: [10, 20, 30, 40]"
   ]
  },
  {
   "cell_type": "markdown",
   "id": "8f678268-3da7-464f-84ca-252c7c651887",
   "metadata": {},
   "source": [
    "#### b. Inserting in the Middle (or at the Beginning):\n",
    "\n",
    "- **Scenario:** If you want to insert an element before existing elements.\n",
    "- **Time Complexity:** O(N) (Linear Time), where N is the number of elements that need to be shifted.\n",
    "- **How it works:** Because elements must remain contiguous, if you insert an element in the middle, you have to shift all subsequent elements one position to the right to make space. This is a costly operation. "
   ]
  },
  {
   "cell_type": "code",
   "execution_count": 8,
   "id": "465d74c7-eb5b-46cd-a620-d85715255b86",
   "metadata": {},
   "outputs": [
    {
     "name": "stdout",
     "output_type": "stream",
     "text": [
      "[10, 20, 25, 30, 40, 50]\n"
     ]
    }
   ],
   "source": [
    "my_array = [10, 20, 30, 40, 50]\n",
    "\n",
    "# Insert 25 at index 2 (before 30)\n",
    "my_array.insert(2, 25)\n",
    "print(my_array) # Output: [10, 20, 25, 30, 40, 50]\n",
    "\n",
    "# Elements 30, 40, 50 were shifted to the right."
   ]
  },
  {
   "cell_type": "markdown",
   "id": "5afd2777-23c8-401c-8a4a-7604c136b82c",
   "metadata": {},
   "source": [
    "#### Other Common Array Operations:\n",
    "\n",
    "- **Deletion:** Similar to insertion, deleting an element from the middle also requires shifting elements to fill the gap, making it an O(N) operation.\n",
    "    - **Python Example:** my_array.pop(2) or del my_array[2]\n",
    "- **Update/Modification:** Changing the value of an existing element at a specific index. This is an O(1) operation, just like access.\n",
    "    - **Python Example:** my_array[0] = 5\n",
    "- **Searching:**\n",
    "    - **Unsorted Array:** To find a specific value, you might have to check every element from beginning to end. O(N) (Linear Search).\n",
    "    - **Sorted Array:** If the array is sorted, you can use more efficient algorithms like Binary Search, which has a time complexity of O(log N) (Logarithmic Time)."
   ]
  },
  {
   "cell_type": "markdown",
   "id": "7d08b403-84b8-4f02-9ad9-1912edd89aa0",
   "metadata": {},
   "source": [
    "# TWO SUM PROBLEM"
   ]
  },
  {
   "cell_type": "code",
   "execution_count": 9,
   "id": "4544a034-9b53-44ad-957a-225dd914950f",
   "metadata": {},
   "outputs": [],
   "source": [
    "class Solution:\n",
    "  def twoSum(self, nums, target):\n",
    "    hashmap = {}\n",
    "    for i,n in enumerate(nums):\n",
    "      diff = target-n\n",
    "      if diff in hashmap:\n",
    "        return [hashmap[diff], i]\n",
    "      hashmap[n] = i\n"
   ]
  }
 ],
 "metadata": {
  "kernelspec": {
   "display_name": "Python 3 (ipykernel)",
   "language": "python",
   "name": "python3"
  },
  "language_info": {
   "codemirror_mode": {
    "name": "ipython",
    "version": 3
   },
   "file_extension": ".py",
   "mimetype": "text/x-python",
   "name": "python",
   "nbconvert_exporter": "python",
   "pygments_lexer": "ipython3",
   "version": "3.13.2"
  }
 },
 "nbformat": 4,
 "nbformat_minor": 5
}
